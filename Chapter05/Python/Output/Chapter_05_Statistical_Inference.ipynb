{
 "cells": [
  {
   "cell_type": "code",
   "execution_count": 1,
   "metadata": {
    "collapsed": true
   },
   "outputs": [],
   "source": [
    "# Statistical Inference Through Python Codes"
   ]
  },
  {
   "cell_type": "code",
   "execution_count": 2,
   "metadata": {},
   "outputs": [],
   "source": [
    "import os\n",
    "os.chdir(\"MyPath/Python/Chapter_05\")\n",
    "import pandas as pd\n",
    "import matplotlib.pyplot as plt\n",
    "import numpy as np\n",
    "from scipy.stats import binom,poisson,norm,t\n",
    "import scipy.stats as st"
   ]
  },
  {
   "cell_type": "code",
   "execution_count": 3,
   "metadata": {
    "collapsed": true
   },
   "outputs": [],
   "source": [
    "# Binomial Likelihood"
   ]
  },
  {
   "cell_type": "code",
   "execution_count": 4,
   "metadata": {},
   "outputs": [
    {
     "data": {
      "text/plain": [
       "<matplotlib.text.Text at 0xa8e04e0>"
      ]
     },
     "execution_count": 4,
     "metadata": {},
     "output_type": "execute_result"
    }
   ],
   "source": [
    "n = 10; x = 7\n",
    "p_seq = np.arange(0,1.01,0.01)\n",
    "lik_p = binom.pmf(x,n,p_seq)\n",
    "plt.subplot(1,3,1)\n",
    "plt.plot(p_seq,lik_p)\n",
    "plt.xlabel(\"p\")\n",
    "plt.title(\"Binomial Likelihood Function\")"
   ]
  },
  {
   "cell_type": "code",
   "execution_count": 5,
   "metadata": {
    "collapsed": true
   },
   "outputs": [],
   "source": [
    "# Poisson Likelihood"
   ]
  },
  {
   "cell_type": "code",
   "execution_count": 6,
   "metadata": {},
   "outputs": [
    {
     "data": {
      "text/plain": [
       "<matplotlib.text.Text at 0xa958588>"
      ]
     },
     "execution_count": 6,
     "metadata": {},
     "output_type": "execute_result"
    }
   ],
   "source": [
    "xp = [1,2,2,1,0,2,3,1,2,4]\n",
    "lam_seq = np.arange(0,5.1,0.1)\n",
    "plt.subplot(1,3,2)\n",
    "plt.plot(lam_seq,poisson.pmf(sum(xp),len(xp)*lam_seq))\n",
    "plt.xlabel('$\\lambda$')\n",
    "plt.title(\"Poisson Likelihood Function\")"
   ]
  },
  {
   "cell_type": "code",
   "execution_count": 7,
   "metadata": {
    "collapsed": true
   },
   "outputs": [],
   "source": [
    "# Normal likelihood"
   ]
  },
  {
   "cell_type": "code",
   "execution_count": 8,
   "metadata": {},
   "outputs": [
    {
     "data": {
      "image/png": "[encoded data removed]",
      "text/plain": [
       "<matplotlib.figure.Figure at 0xa554518>"
      ]
     },
     "metadata": {},
     "output_type": "display_data"
    }
   ],
   "source": [
    "n = 25\n",
    "nx = np.random.normal(10,2,n)\n",
    "mu_seq = np.arange(8,12.05,0.05)\n",
    "plt.subplot(1,3,3)\n",
    "plt.plot(mu_seq,norm.pdf(np.mean(nx),mu_seq,2))\n",
    "plt.xlabel('$\\mu$')\n",
    "plt.title(\"Normal Likelihood Function\")\n",
    "plt.show()"
   ]
  },
  {
   "cell_type": "code",
   "execution_count": 9,
   "metadata": {
    "collapsed": true
   },
   "outputs": [],
   "source": [
    "# Confidence Intervals"
   ]
  },
  {
   "cell_type": "code",
   "execution_count": 10,
   "metadata": {},
   "outputs": [
    {
     "name": "stdout",
     "output_type": "stream",
     "text": [
      "Binomial Lower Confidence Limit:  0.326726871284\n",
      "Binomial Upper Confidence Limit:  1\n"
     ]
    }
   ],
   "source": [
    "def binom_CI(x,n,alpha):\n",
    "    phat = x/n\n",
    "    ll=phat-norm.ppf(1-alpha/2)*np.sqrt(phat*(1-phat)/n)\n",
    "    ul=phat+norm.ppf(1-alpha/2)*np.sqrt(phat*(1-phat)/n)\n",
    "    print(\"Binomial Lower Confidence Limit: \",max(0,ll))\n",
    "    print(\"Binomial Upper Confidence Limit: \",min(1,ul))\n",
    "binom_CI(x=7,n=10,alpha=0.01)"
   ]
  },
  {
   "cell_type": "code",
   "execution_count": 11,
   "metadata": {},
   "outputs": [
    {
     "name": "stdout",
     "output_type": "stream",
     "text": [
      "Normal Lower Confidence Limit:  8.99580732593\n",
      "Normal Upper Confidence Limit:  10.5637785136\n"
     ]
    }
   ],
   "source": [
    "def normal_CI_ksd(x,sigma,alpha):\n",
    "    xbar = np.mean(x)\n",
    "    n = len(x)\n",
    "    ll = xbar - norm.ppf(1-alpha/2)*sigma/np.sqrt(n)\n",
    "    ul = xbar + norm.ppf(1-alpha/2)*sigma/np.sqrt(n)\n",
    "    print(\"Normal Lower Confidence Limit: \",ll)\n",
    "    print(\"Normal Upper Confidence Limit: \",ul)\n",
    "n=25\n",
    "nx = np.random.normal(10,2,n)\n",
    "normal_CI_ksd(nx,2,0.05)"
   ]
  },
  {
   "cell_type": "code",
   "execution_count": 12,
   "metadata": {},
   "outputs": [
    {
     "name": "stdout",
     "output_type": "stream",
     "text": [
      "Normal Lower Confidence Limit:  9.6983574143\n",
      "Normal Upper Confidence Limit:  11.4359105478\n"
     ]
    }
   ],
   "source": [
    "def normal_CI_uksd(x,alpha):\n",
    "    xbar = np.mean(x); n = len(x)\n",
    "    xsd = np.std(x)*np.sqrt(n/(n-1))\n",
    "    ll = xbar - t.ppf(1-alpha/2,n-1)*xsd/np.sqrt(n)\n",
    "    ul = xbar + t.ppf(1-alpha/2,n-1)*xsd/np.sqrt(n)\n",
    "    print(\"Normal Lower Confidence Limit: \",ll)\n",
    "    print(\"Normal Upper Confidence Limit: \",ul)\n",
    "nx = np.random.normal(10,2,n)\n",
    "normal_CI_uksd(nx,0.05)"
   ]
  },
  {
   "cell_type": "code",
   "execution_count": 13,
   "metadata": {
    "collapsed": true
   },
   "outputs": [],
   "source": [
    "# Hypothesis Testing in Python"
   ]
  },
  {
   "cell_type": "code",
   "execution_count": 14,
   "metadata": {
    "collapsed": true
   },
   "outputs": [],
   "source": [
    "# Binomial Test"
   ]
  },
  {
   "cell_type": "code",
   "execution_count": 15,
   "metadata": {},
   "outputs": [
    {
     "data": {
      "text/plain": [
       "0.54977099798723161"
      ]
     },
     "execution_count": 15,
     "metadata": {},
     "output_type": "execute_result"
    }
   ],
   "source": [
    "n_lcd = 893; x_lcd = 39; p_lcd = 0.04\n",
    "from scipy.stats import binom_test\n",
    "binom_test(x=x_lcd,n=n_lcd,p=p_lcd)"
   ]
  },
  {
   "cell_type": "code",
   "execution_count": 16,
   "metadata": {
    "collapsed": true
   },
   "outputs": [],
   "source": [
    "# Proportion Test"
   ]
  },
  {
   "cell_type": "code",
   "execution_count": 17,
   "metadata": {},
   "outputs": [
    {
     "data": {
      "text/plain": [
       "(245.68193179139814, 3.4322059672585922e-50, (array([[512, 313],\n",
       "         [353, 207],\n",
       "         [120, 205],\n",
       "         [138, 279],\n",
       "         [ 53, 138],\n",
       "         [ 22, 351]]), array([[ 679.8  ,  145.2  ],\n",
       "         [ 380.8  ,  179.2  ],\n",
       "         [ 110.825,  214.175],\n",
       "         [ 145.533,  271.467],\n",
       "         [  45.649,  145.351],\n",
       "         [  26.11 ,  346.89 ]])))"
      ]
     },
     "execution_count": 17,
     "metadata": {},
     "output_type": "execute_result"
    }
   ],
   "source": [
    "Male_Admit = [512, 353, 120, 138,  53,  22]\n",
    "Male_Applied = [825, 560, 325, 417, 191, 373]\n",
    "Female_Prop = np.array([0.824, 0.680, 0.341, 0.349, 0.239, 0.070])\n",
    "from statsmodels.stats.proportion import proportions_chisquare\n",
    "proportions_chisquare(count = Male_Admit, nobs=Male_Applied,value=Female_Prop)"
   ]
  },
  {
   "cell_type": "code",
   "execution_count": 18,
   "metadata": {
    "collapsed": true
   },
   "outputs": [],
   "source": [
    "# Normal test: One sample Z-test"
   ]
  },
  {
   "cell_type": "code",
   "execution_count": 19,
   "metadata": {
    "collapsed": true
   },
   "outputs": [],
   "source": [
    "def z_test(x,mu,sd,alternative):\n",
    "    import scipy\n",
    "    xmean = x.mean(); n = len(x)\n",
    "    ztest = np.sqrt(n)*(xmean-mu)/sd\n",
    "    if alternative==\"less\":\n",
    "        pvalue = scipy.stats.norm.cdf(ztest)\n",
    "    if alternative==\"greater\":\n",
    "        pvalue = 1-scipy.stats.norm.cdf(ztest)\n",
    "    if alternative==\"two.sided\":\n",
    "        pvalue = 2*(1-scipy.stats.norm.cdf(ztest))\n",
    "    print(\"The Z-test Value is :\",ztest)\n",
    "    print(\"The p-value is :\",pvalue)"
   ]
  },
  {
   "cell_type": "code",
   "execution_count": 20,
   "metadata": {},
   "outputs": [
    {
     "name": "stdout",
     "output_type": "stream",
     "text": [
      "The Z-test Value is : -0.0632455532034\n",
      "The p-value is : 0.474785485576\n"
     ]
    }
   ],
   "source": [
    "pH_Data = np.array([8.30,8.42,8.44,8.32,8.43,8.41,8.42,8.46,8.37,8.42]) \n",
    "z_test(x=pH_Data,mu=8.4,sd=0.05,alternative=\"less\")"
   ]
  },
  {
   "cell_type": "code",
   "execution_count": 21,
   "metadata": {},
   "outputs": [
    {
     "name": "stdout",
     "output_type": "stream",
     "text": [
      "The Z-test Value is : 1.271629532\n",
      "The p-value is : 0.101752389402\n"
     ]
    }
   ],
   "source": [
    "LCD_Data = np.array([13.37, 10.96, 12.06, 13.82, 12.96, 10.47,10.55,\n",
    "                     16.28, 12.94, 11.43, 14.51, 12.63, 13.50, 11.50, 12.87])\n",
    "z_test(x=LCD_Data,mu =12, sd =2,alternative=\"greater\")"
   ]
  },
  {
   "cell_type": "code",
   "execution_count": 22,
   "metadata": {},
   "outputs": [
    {
     "name": "stdout",
     "output_type": "stream",
     "text": [
      "The Z-test Value is : -14.3333333333\n",
      "The p-value is : 2.0\n"
     ]
    }
   ],
   "source": [
    "peanuts = np.array([8.08, 7.71, 7.89, 7.72, 8.00, 7.90, 7.77, 7.81,\n",
    "                    8.33, 7.67, 7.79, 7.79, 7.94, 7.84, 8.17, 7.87])\n",
    "z_test(x=peanuts,mu=8,sd=0.03,alternative=\"two.sided\")"
   ]
  },
  {
   "cell_type": "code",
   "execution_count": 23,
   "metadata": {
    "collapsed": true
   },
   "outputs": [],
   "source": [
    "# Normal test: Two sample Z-test"
   ]
  },
  {
   "cell_type": "code",
   "execution_count": 24,
   "metadata": {
    "collapsed": true
   },
   "outputs": [],
   "source": [
    "def z_test_two_samples(x1,x2,s1,s2,alternative,delta):\n",
    "    import scipy\n",
    "    x1mean = x1.mean(); n1 = len(x1)\n",
    "    x2mean = x2.mean(); n2 = len(x2)\n",
    "    pooled_var = np.sqrt(s1**2/n1+s2**2/n2)\n",
    "    ztest = (x1mean-x2mean-delta)/pooled_var\n",
    "    if alternative==\"less\":\n",
    "        pvalue = scipy.stats.norm.cdf(ztest)\n",
    "    if alternative==\"greater\":\n",
    "        pvalue = 1-scipy.stats.norm.cdf(ztest)\n",
    "    if alternative==\"two.sided\":\n",
    "        pvalue = 2*(1-scipy.stats.norm.cdf(ztest))\n",
    "    print(\"The Z-test Value is :\",ztest)\n",
    "    print(\"The p-value is :\",pvalue)\n",
    "    print(\"The pooled variance is:\",pooled_var)"
   ]
  },
  {
   "cell_type": "code",
   "execution_count": 25,
   "metadata": {},
   "outputs": [
    {
     "name": "stdout",
     "output_type": "stream",
     "text": [
      "The Z-test Value is : -18.5360598605\n",
      "The p-value is : 5.28434370461e-77\n",
      "The pooled variance is: 0.0214087209644\n"
     ]
    }
   ],
   "source": [
    "pH_Data = np.array([8.30, 8.42, 8.44, 8.32, 8.43, 8.41,\n",
    "                    8.42,  8.46, 8.37, 8.42])\n",
    "pH_New = np.array([8.78, 8.85, 8.74, 8.83, 8.82, 8.79, \n",
    "                   8.82, 8.74, 8.84, 8.78, 8.75, 8.81])\n",
    "z_test_two_samples(x1=pH_Data,x2=pH_New,s1=0.05,s2=0.05,\n",
    "                   alternative=\"less\",delta=0)"
   ]
  },
  {
   "cell_type": "code",
   "execution_count": 26,
   "metadata": {},
   "outputs": [
    {
     "name": "stdout",
     "output_type": "stream",
     "text": [
      "The Z-test Value is : 0.210190389885\n",
      "The p-value is : 0.833519079794\n",
      "The pooled variance is: 0.22360679775\n"
     ]
    }
   ],
   "source": [
    "length_M1 = np.array([122.4, 123.12, 122.51, 123.12, 122.55,\n",
    "                      121.76, 122.31, 123.2, 122.48, 121.96])\n",
    "length_M2 = np.array([122.36, 121.88, 122.2, 122.88, 123.43,\n",
    "                      122.4, 122.12, 121.78, 122.85, 123.04])\n",
    "z_test_two_samples(x1=length_M1,x2=length_M2,s1=0.5,s2=0.5,\n",
    "                   alternative=\"two.sided\",delta=0)"
   ]
  },
  {
   "cell_type": "code",
   "execution_count": null,
   "metadata": {
    "collapsed": true
   },
   "outputs": [],
   "source": []
  },
  {
   "cell_type": "code",
   "execution_count": null,
   "metadata": {
    "collapsed": true
   },
   "outputs": [],
   "source": []
  }
 ],
 "metadata": {
  "kernelspec": {
   "display_name": "Python 3",
   "language": "python",
   "name": "python3"
  },
  "language_info": {
   "codemirror_mode": {
    "name": "ipython",
    "version": 3
   },
   "file_extension": ".py",
   "mimetype": "text/x-python",
   "name": "python",
   "nbconvert_exporter": "python",
   "pygments_lexer": "ipython3",
   "version": "3.6.1"
  }
 },
 "nbformat": 4,
 "nbformat_minor": 2
}
